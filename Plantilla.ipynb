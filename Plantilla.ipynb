{
 "cells": [
  {
   "cell_type": "code",
   "execution_count": 1,
   "id": "3e83d5ba-50d2-40cd-84d5-1a570d73e417",
   "metadata": {},
   "outputs": [],
   "source": [
    "import pandas as pd\n",
    "import matplotlib.pyplot as plt"
   ]
  },
  {
   "cell_type": "code",
   "execution_count": 2,
   "id": "3d210765-cf44-46b4-9e17-be182fa7d956",
   "metadata": {},
   "outputs": [],
   "source": [
    "# Leer el archivo Excel\n",
    "ruta_archivo = r\"C:\\Users\\USUARIO\\Downloads\\extorsion_11.xlsx\"\n",
    "df = pd.read_excel(ruta_archivo)"
   ]
  },
  {
   "cell_type": "code",
   "execution_count": 3,
   "id": "2f47b762-9aa8-454d-8d8d-35c18f3ada27",
   "metadata": {},
   "outputs": [],
   "source": [
    "# Eliminar las primeras 9 filas que contienen información no relevante\n",
    "df = df.drop(index=range(8))"
   ]
  },
  {
   "cell_type": "code",
   "execution_count": 4,
   "id": "7dbc7a9f-c07c-45cd-80b8-bbeef8fef790",
   "metadata": {},
   "outputs": [],
   "source": [
    "# Resetear el índice para que comience desde 0\n",
    "df.reset_index(drop=True, inplace=True)"
   ]
  },
  {
   "cell_type": "code",
   "execution_count": 5,
   "id": "d41c4410-6b01-49a0-90e5-8560b7bc95a0",
   "metadata": {},
   "outputs": [],
   "source": [
    "# Asignar los nombres correctos a las columnas\n",
    "df.columns = df.iloc[0]  # Asigna la primera fila como nombres de columnas\n",
    "df = df.drop(index=0)  # Elimina la fila que ahora es redundante"
   ]
  },
  {
   "cell_type": "code",
   "execution_count": 6,
   "id": "8ed531eb-5b6d-415e-87bf-c270d1e51951",
   "metadata": {},
   "outputs": [],
   "source": [
    "# Resetear el índice nuevamente\n",
    "df.reset_index(drop=True, inplace=True)"
   ]
  },
  {
   "cell_type": "code",
   "execution_count": 7,
   "id": "4a540eef-98d8-4dd0-a33c-05ef84dd290b",
   "metadata": {},
   "outputs": [],
   "source": [
    "# Eliminar filas adicionales que puedan estar en blanco o no sean relevantes\n",
    "df = df.dropna(how='all')"
   ]
  },
  {
   "cell_type": "code",
   "execution_count": 8,
   "id": "cbe13fcb-15b1-4c40-9421-b118d4c1f026",
   "metadata": {},
   "outputs": [
    {
     "name": "stdout",
     "output_type": "stream",
     "text": [
      "Index(['ARMA MEDIO ', 'DEPARTAMENTO ', 'MUNICIPIO ', 'FECHA HECHO ', 'GENERO ',\n",
      "       '*AGRUPA_EDAD_PERSONA', 'CODIGO DANE ', 'CANTIDAD '],\n",
      "      dtype='object', name=0)\n"
     ]
    }
   ],
   "source": [
    "# Asegúrate de que las columnas clave están correctamente nombradas\n",
    "print(df.columns)"
   ]
  },
  {
   "cell_type": "code",
   "execution_count": 9,
   "id": "5172ca89-3370-4a97-9cc3-921cda6ea944",
   "metadata": {},
   "outputs": [
    {
     "name": "stdout",
     "output_type": "stream",
     "text": [
      "0      ARMA MEDIO  DEPARTAMENTO  MUNICIPIO          FECHA HECHO   \\\n",
      "0  CARTA EXTORSIVA     ANTIOQUIA      Anorí  2023-01-08 00:00:00   \n",
      "1  CARTA EXTORSIVA     ANTIOQUIA      Anorí  2023-05-30 00:00:00   \n",
      "2  CARTA EXTORSIVA     ANTIOQUIA      Bello  2023-01-07 00:00:00   \n",
      "3  CARTA EXTORSIVA     ANTIOQUIA      Bello  2023-02-06 00:00:00   \n",
      "4  CARTA EXTORSIVA     ANTIOQUIA      Bello  2023-02-23 00:00:00   \n",
      "\n",
      "0       GENERO  *AGRUPA_EDAD_PERSONA CODIGO DANE  CANTIDAD   \n",
      "0     MASCULINO              ADULTOS     05040000         1  \n",
      "1  NO REPORTADO         NO REPORTADO     05040000         1  \n",
      "2      FEMENINO              ADULTOS     05088000         1  \n",
      "3     MASCULINO              ADULTOS     05088000         1  \n",
      "4     MASCULINO              ADULTOS     05088000         1  \n"
     ]
    }
   ],
   "source": [
    "# Mostrar los primeros registros para verificar que todo esté bien\n",
    "print(df.head())"
   ]
  },
  {
   "cell_type": "code",
   "execution_count": 19,
   "id": "2546fbfe-1bf6-477e-b7a5-743afd9f77aa",
   "metadata": {},
   "outputs": [],
   "source": [
    "# Asignar manualmente los nombres correctos a las columnas\n",
    "df.columns = ['ARMA MEDIO', 'DEPARTAMENTO', 'MUNICIPIO', 'FECHA HECHO', 'GENERO', \n",
    "              'AGRUPA_EDAD_PERSONA', 'CODIGO DANE', 'CANTIDAD']"
   ]
  },
  {
   "cell_type": "code",
   "execution_count": 21,
   "id": "1f44a44f-4bf5-4fd8-804b-f5985b0bed73",
   "metadata": {},
   "outputs": [],
   "source": [
    "# Agrupar por Departamento, Municipio, y contar el número de delitos\n",
    "grupo_departamento = df.groupby(['DEPARTAMENTO']).agg(\n",
    "    numero_de_casos_de_extorsion=('CANTIDAD', 'sum')\n",
    ").reset_index()"
   ]
  },
  {
   "cell_type": "code",
   "execution_count": 23,
   "id": "dfcb3edb-b064-4bac-bb8f-edde5cbc0e52",
   "metadata": {},
   "outputs": [
    {
     "name": "stdout",
     "output_type": "stream",
     "text": [
      "  DEPARTAMENTO numero_de_casos_de_extorsion\n",
      "0     AMAZONAS                            1\n",
      "1    ANTIOQUIA                         1918\n",
      "2       ARAUCA                           75\n",
      "3    ATLÁNTICO                         1362\n",
      "4      BOLÍVAR                          267\n"
     ]
    }
   ],
   "source": [
    "# Mostrar los primeros resultados\n",
    "print(grupo_departamento.head())"
   ]
  },
  {
   "cell_type": "code",
   "execution_count": 25,
   "id": "5c011b9a-ac6a-4987-86a3-499750abd4ed",
   "metadata": {},
   "outputs": [],
   "source": [
    "grupo_departamento.to_excel('C:/Users/USUARIO/OneDrive/Escritorio/Datos Policiales/Prueba1/resultado_numero_de_casos_de_extorsion.xlsx', index=False)"
   ]
  },
  {
   "cell_type": "code",
   "execution_count": null,
   "id": "a3a6b5ee-7fb7-4769-9201-1fe0940b9e6d",
   "metadata": {},
   "outputs": [],
   "source": [
    "# Calcular el total de homicidios por Departamento\n",
    "total_homicidios_depto = grupo_departamento.groupby('DEPARTAMENTO').agg(\n",
    "    total_de_delitos_sexuales=('numero_de_delitos_sexuales', 'sum')\n",
    ").reset_index()"
   ]
  },
  {
   "cell_type": "code",
   "execution_count": null,
   "id": "eda83fe1-2bfd-4daf-9d0f-0f5b29f8c30c",
   "metadata": {},
   "outputs": [],
   "source": [
    "# Unir el total de homicidios por Departamento con el DataFrame original\n",
    "df_final = pd.merge(grupo_departamento, total_homicidios_depto, on='DEPARTAMENTO')"
   ]
  },
  {
   "cell_type": "code",
   "execution_count": null,
   "id": "c997fc77-327f-487e-9c61-811df09d7b47",
   "metadata": {},
   "outputs": [],
   "source": [
    "# Ordenar los datos por Departamento y Municipio\n",
    "df_final = df_final.sort_values(by=['DEPARTAMENTO', 'MUNICIPIO',]).reset_index(drop=True)"
   ]
  },
  {
   "cell_type": "code",
   "execution_count": null,
   "id": "8a889047-4965-4e22-be57-19db69a8a8c9",
   "metadata": {},
   "outputs": [],
   "source": [
    "for depto in df_final['DEPARTAMENTO'].unique():\n",
    "    print(f\"\\nDepartamento: {depto}\")\n",
    "    municipios = df_final[df_final['DEPARTAMENTO'] == depto]['MUNICIPIO'].unique()\n",
    "    for municipio in municipios:\n",
    "        total = df_final[(df_final['DEPARTAMENTO'] == depto) & (df_final['MUNICIPIO'] == municipio)]\n",
    "        for _, row in total.iterrows():\n",
    "            print(f\"  Municipio: {municipio}\", f\" -  Delitos sexuales: {row['numero_de_delitos_sexuales']}\")\n",
    "    total_de_delitos_sexuales = df_final[df_final['DEPARTAMENTO'] == depto]['total_de_delitos_sexuales'].iloc[0]\n",
    "    print(f\"  Total de delitos sexuales en {depto}: {total_de_delitos_sexuales}\")"
   ]
  },
  {
   "cell_type": "code",
   "execution_count": null,
   "id": "a0eac88e-9ef9-4224-97a5-065c81a9a435",
   "metadata": {},
   "outputs": [],
   "source": [
    "import seaborn as sns\n",
    "# Graficar los totales por departamento\n",
    "plt.figure(figsize=(10, 6))\n",
    "plt.barh(total_homicidios_depto['DEPARTAMENTO'], total_homicidios_depto['total_de_delitos_sexuales'])\n",
    "plt.xlabel('Número de delitos sexuales')\n",
    "plt.title('Grafica de delitos sexuales por Departamento')\n",
    "plt.show()"
   ]
  },
  {
   "cell_type": "code",
   "execution_count": null,
   "id": "aeeabcf3-904d-4faf-99fd-09e9c0d9ed01",
   "metadata": {},
   "outputs": [],
   "source": [
    "df_final.to_excel('C:/Users/USUARIO/OneDrive/Escritorio/Datos Policiales/Prueba1/resultado_delitos_sexuales22.xlsx', index=False)"
   ]
  }
 ],
 "metadata": {
  "kernelspec": {
   "display_name": "Python 3 (ipykernel)",
   "language": "python",
   "name": "python3"
  },
  "language_info": {
   "codemirror_mode": {
    "name": "ipython",
    "version": 3
   },
   "file_extension": ".py",
   "mimetype": "text/x-python",
   "name": "python",
   "nbconvert_exporter": "python",
   "pygments_lexer": "ipython3",
   "version": "3.12.4"
  }
 },
 "nbformat": 4,
 "nbformat_minor": 5
}
